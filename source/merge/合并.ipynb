{
 "cells": [
  {
   "cell_type": "markdown",
   "id": "a8354cc7",
   "metadata": {},
   "source": [
    "### 读入数据"
   ]
  },
  {
   "cell_type": "code",
   "execution_count": 5,
   "id": "10c0cb21",
   "metadata": {},
   "outputs": [
    {
     "name": "stdout",
     "output_type": "stream",
     "text": [
      "吉林省长春市德惠市德兴街与惠新路交汇西行100米德惠市政务服务中心二楼社保窗口,\n"
     ]
    }
   ],
   "source": [
    "import re\n",
    "str = \"('吉林省长春市德惠市德兴街与惠新路交汇西行100米德惠市政务服务中心二楼社保窗口',)\"\n",
    "\n",
    "cleaned_text = re.sub(r\"^\\(|\\)$|'|,$\", \"\", str)\n",
    "print(cleaned_text)"
   ]
  },
  {
   "cell_type": "code",
   "execution_count": null,
   "id": "00a07e9f",
   "metadata": {},
   "outputs": [],
   "source": [
    "import pandas as pd\n",
    "\n",
    "# 读取两个 Excel 文件\n",
    "df1 = pd.read_excel(\"./全市.xlsx\")\n",
    "df2 = pd.read_excel(\"./新区.xlsx\")\n",
    "\n"
   ]
  },
  {
   "cell_type": "code",
   "execution_count": null,
   "id": "8050ad32",
   "metadata": {},
   "outputs": [],
   "source": [
    "df1.info()"
   ]
  },
  {
   "cell_type": "code",
   "execution_count": null,
   "id": "78b2bcfc",
   "metadata": {},
   "outputs": [],
   "source": [
    "df2.info()"
   ]
  },
  {
   "cell_type": "code",
   "execution_count": null,
   "id": "2838cd64",
   "metadata": {},
   "outputs": [],
   "source": [
    "# 按行合并（忽略原有索引）\n",
    "merged_df = pd.concat([df1, df2], ignore_index=True)\n",
    "\n",
    "# 保存结果\n",
    "merged_df.to_excel(\"./全市全部.xlsx\", index=False)\n",
    "\n",
    "merged_df.info()"
   ]
  },
  {
   "cell_type": "code",
   "execution_count": 7,
   "id": "fa9a1a09",
   "metadata": {},
   "outputs": [
    {
     "name": "stdout",
     "output_type": "stream",
     "text": [
      "<class 'pandas.core.frame.DataFrame'>\n",
      "RangeIndex: 36535 entries, 0 to 36534\n",
      "Data columns (total 14 columns):\n",
      " #   Column   Non-Null Count  Dtype \n",
      "---  ------   --------------  ----- \n",
      " 0   区划名称     36535 non-null  object\n",
      " 1   地区层级     36535 non-null  object\n",
      " 2   上级区划名称   36535 non-null  object\n",
      " 3   主项名称     36535 non-null  object\n",
      " 4   子项名称     14908 non-null  object\n",
      " 5   业务办理项名称  36535 non-null  object\n",
      " 6   承诺办结时限   36535 non-null  int64 \n",
      " 7   是否收费     36535 non-null  object\n",
      " 8   受理条件     36535 non-null  object\n",
      " 9   办理地点     36535 non-null  object\n",
      " 10  办理时间     36535 non-null  object\n",
      " 11  咨询方式     36535 non-null  object\n",
      " 12  材料名称     30684 non-null  object\n",
      " 13  情形       2978 non-null   object\n",
      "dtypes: int64(1), object(13)\n",
      "memory usage: 3.9+ MB\n"
     ]
    }
   ],
   "source": [
    "# 读取两个 Excel 文件\n",
    "import pandas as pd\n",
    "df= pd.read_excel(\"./全市全部.xlsx\")\n",
    "df.info()"
   ]
  },
  {
   "cell_type": "markdown",
   "id": "f75de228",
   "metadata": {},
   "source": [
    "### 按主项名称对业务办理项名称的数量进行统计"
   ]
  },
  {
   "cell_type": "code",
   "execution_count": null,
   "id": "22ae6107",
   "metadata": {},
   "outputs": [],
   "source": [
    "# 按'主项名称'分组，并对'业务办理项名称'去重计数\n",
    "result = df.groupby('主项名称')['业务办理项名称'].nunique().reset_index()\n",
    "result.columns = ['主项名称', '业务办理项数量(去重)']\n",
    "\n",
    "# 导出到Excel\n",
    "output_file=\"按数量统计主项.xlsx\"\n",
    "\n",
    "result.to_excel(output_file, index=False)"
   ]
  },
  {
   "cell_type": "markdown",
   "id": "3a8e8ad4",
   "metadata": {},
   "source": [
    "### 按主项名称对业务办理项名称的数量进行统计，带上部门名称"
   ]
  },
  {
   "cell_type": "code",
   "execution_count": null,
   "id": "3ecc52e7",
   "metadata": {},
   "outputs": [],
   "source": [
    "# 检查必要的列是否存在\n",
    "# 智能客服4.18全市基本信息\n",
    "import pandas as pd\n",
    "df = pd.read_excel(\"./智能客服4.18全市基本信息.xlsx\")\n",
    "required_columns = ['主项名称', '业务办理项名称', '部门名称']  # 添加了'部门'列\n",
    "for col in required_columns:\n",
    "    if col not in df.columns:\n",
    "        raise ValueError(f\"数据中缺少必要的列: '{col}'\")\n",
    "\n",
    "# 按'主项名称'分组，并对'业务办理项名称'去重计数，同时保留部门信息\n",
    "# 方法1：假设每个主项名称对应唯一的部门\n",
    "result = df.groupby('主项名称').agg({\n",
    "    '业务办理项名称': 'nunique',\n",
    "    '部门名称': 'first'  # 取每个组中的第一个部门值\n",
    "}).reset_index()\n",
    "\n",
    "# 重命名列\n",
    "result.columns = ['主项名称', '业务办理项数量(去重)', '部门名称']\n",
    "\n",
    "# 调整列顺序，让部门信息在前\n",
    "result = result[['主项名称', '部门名称', '业务办理项数量(去重)']]\n",
    "# 导出到Excel\n",
    "output_file = \"按数量统计主项带部门.xlsx\"\n",
    "# 导出到Excel\n",
    "result.to_excel(output_file, index=False)\n",
    "print(f\"结果已成功导出到: {output_file}\")"
   ]
  },
  {
   "cell_type": "code",
   "execution_count": null,
   "id": "9b3a82b8",
   "metadata": {},
   "outputs": [],
   "source": [
    "# 查找主项名称包含\"公积金\"的不重复子项名称\n",
    "result = df[df['主项名称'].str.contains('公积金')]['子项名称'].drop_duplicates()\n",
    "\n",
    "result.head()"
   ]
  },
  {
   "cell_type": "code",
   "execution_count": null,
   "id": "bcf85b5b",
   "metadata": {},
   "outputs": [],
   "source": [
    "# 查找主项名称包含\"公积金\"的记录，并按子项名称去重\n",
    "result = df[df['主项名称'].str.contains('公积金')].drop_duplicates(subset=['子项名称'])\n",
    "\n",
    "print(result[['主项名称', '子项名称']])\n",
    "export = result[['主项名称', '子项名称']]\n",
    "export.to_excel(\"子项名称(公积金).xlsx\", index=False)"
   ]
  },
  {
   "cell_type": "markdown",
   "id": "fe35b6aa",
   "metadata": {},
   "source": [
    "### 导出包含 企业登记注册 的数据"
   ]
  },
  {
   "cell_type": "code",
   "execution_count": null,
   "id": "9b4955ba",
   "metadata": {},
   "outputs": [],
   "source": [
    "# 查找主项名称包含\"公积金\"的记录，并按子项名称去重\n",
    "result = df[df['主项名称'].str.contains('企业登记注册')].drop_duplicates(subset=['业务办理项名称'])\n",
    "\n",
    "# print(result[['主项名称', '子项名称']])\n",
    "export = result[['主项名称', '业务办理项名称']]\n",
    "export.to_excel(\"企业登记注册.xlsx\", index=False)"
   ]
  },
  {
   "cell_type": "markdown",
   "id": "d43dadf0",
   "metadata": {},
   "source": [
    "### 导出不重复主项-业务办理项-情形"
   ]
  },
  {
   "cell_type": "code",
   "execution_count": 8,
   "id": "9b96b44a",
   "metadata": {},
   "outputs": [],
   "source": [
    "# df = pd.read_excel(\"./全市全部.xlsx\")\n",
    "data = df[['主项名称', '业务办理项名称']].drop_duplicates()\n",
    "data = data[['主项名称', '业务办理项名称']]\n",
    "data.to_excel(\"不重复主项-业务办理项.xlsx\", index=False)"
   ]
  },
  {
   "cell_type": "code",
   "execution_count": null,
   "id": "ac5a9092",
   "metadata": {},
   "outputs": [],
   "source": [
    "# df = pd.read_excel(\"./全市全部.xlsx\")\n",
    "data =  df[['主项名称', '业务办理项名称', '情形']].drop_duplicates()\n",
    "data = data[['主项名称', '业务办理项名称', '情形']]\n",
    "data.to_excel(\"不重复主项-业务办理项-情形.xlsx\", index=False)"
   ]
  },
  {
   "cell_type": "code",
   "execution_count": null,
   "id": "d30032f2",
   "metadata": {},
   "outputs": [],
   "source": [
    "df3 = pd.read_excel(\"./智能客服4.18全市基本信息.xlsx\")\n",
    "data =  df3[['主项名称',\"部门名称\", '业务办理项名称', '情形']].drop_duplicates()\n",
    "data = data[[\"部门名称\", '主项名称', '业务办理项名称', '情形']]\n",
    "data.to_excel(\"不重复部门-主项-业务办理项-情形.xlsx\", index=False)"
   ]
  }
 ],
 "metadata": {
  "kernelspec": {
   "display_name": "pandas",
   "language": "python",
   "name": "python3"
  },
  "language_info": {
   "codemirror_mode": {
    "name": "ipython",
    "version": 3
   },
   "file_extension": ".py",
   "mimetype": "text/x-python",
   "name": "python",
   "nbconvert_exporter": "python",
   "pygments_lexer": "ipython3",
   "version": "3.10.17"
  }
 },
 "nbformat": 4,
 "nbformat_minor": 5
}
