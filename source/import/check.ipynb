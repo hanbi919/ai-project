{
 "cells": [
  {
   "cell_type": "code",
   "execution_count": 3,
   "id": "0192729b",
   "metadata": {},
   "outputs": [
    {
     "name": "stdout",
     "output_type": "stream",
     "text": [
      "<class 'pandas.core.frame.DataFrame'>\n",
      "RangeIndex: 550 entries, 0 to 549\n",
      "Data columns (total 12 columns):\n",
      " #   Column   Non-Null Count  Dtype \n",
      "---  ------   --------------  ----- \n",
      " 0   区划名称     550 non-null    object\n",
      " 1   上级区划名称   550 non-null    object\n",
      " 2   主项名称     550 non-null    object\n",
      " 3   业务办理项名称  550 non-null    object\n",
      " 4   承诺办结时限   550 non-null    int64 \n",
      " 5   是否收费     550 non-null    object\n",
      " 6   受理条件     550 non-null    object\n",
      " 7   办理地点     550 non-null    object\n",
      " 8   办理时间     550 non-null    object\n",
      " 9   咨询方式     550 non-null    object\n",
      " 10  情形       550 non-null    object\n",
      " 11  材料名称     550 non-null    object\n",
      "dtypes: int64(1), object(11)\n",
      "memory usage: 51.7+ KB\n"
     ]
    }
   ],
   "source": [
    "import pandas as pd\n",
    "# 读取 Excel 文件（支持 .xlsx 和 .xls）\n",
    "df = pd.read_excel(\"./test.xlsx\", sheet_name=\"Sheet1\")  # 可指定工作表\n",
    "df.info()"
   ]
  },
  {
   "cell_type": "code",
   "execution_count": 4,
   "id": "7cac61a2",
   "metadata": {},
   "outputs": [
    {
     "data": {
      "text/html": [
       "<div>\n",
       "<style scoped>\n",
       "    .dataframe tbody tr th:only-of-type {\n",
       "        vertical-align: middle;\n",
       "    }\n",
       "\n",
       "    .dataframe tbody tr th {\n",
       "        vertical-align: top;\n",
       "    }\n",
       "\n",
       "    .dataframe thead th {\n",
       "        text-align: right;\n",
       "    }\n",
       "</style>\n",
       "<table border=\"1\" class=\"dataframe\">\n",
       "  <thead>\n",
       "    <tr style=\"text-align: right;\">\n",
       "      <th></th>\n",
       "      <th>承诺办结时限</th>\n",
       "    </tr>\n",
       "  </thead>\n",
       "  <tbody>\n",
       "    <tr>\n",
       "      <th>count</th>\n",
       "      <td>550.000000</td>\n",
       "    </tr>\n",
       "    <tr>\n",
       "      <th>mean</th>\n",
       "      <td>7.136364</td>\n",
       "    </tr>\n",
       "    <tr>\n",
       "      <th>std</th>\n",
       "      <td>9.495927</td>\n",
       "    </tr>\n",
       "    <tr>\n",
       "      <th>min</th>\n",
       "      <td>1.000000</td>\n",
       "    </tr>\n",
       "    <tr>\n",
       "      <th>25%</th>\n",
       "      <td>3.000000</td>\n",
       "    </tr>\n",
       "    <tr>\n",
       "      <th>50%</th>\n",
       "      <td>5.000000</td>\n",
       "    </tr>\n",
       "    <tr>\n",
       "      <th>75%</th>\n",
       "      <td>5.750000</td>\n",
       "    </tr>\n",
       "    <tr>\n",
       "      <th>max</th>\n",
       "      <td>100.000000</td>\n",
       "    </tr>\n",
       "  </tbody>\n",
       "</table>\n",
       "</div>"
      ],
      "text/plain": [
       "           承诺办结时限\n",
       "count  550.000000\n",
       "mean     7.136364\n",
       "std      9.495927\n",
       "min      1.000000\n",
       "25%      3.000000\n",
       "50%      5.000000\n",
       "75%      5.750000\n",
       "max    100.000000"
      ]
     },
     "execution_count": 4,
     "metadata": {},
     "output_type": "execute_result"
    }
   ],
   "source": [
    "df.describe()"
   ]
  },
  {
   "cell_type": "code",
   "execution_count": 5,
   "id": "f38f4d9f",
   "metadata": {},
   "outputs": [
    {
     "data": {
      "text/plain": [
       "业务办理项名称\n",
       "残疾人证新办                  384\n",
       "公共就业服务专项活动              164\n",
       "一级注册消防工程师资格考试免一科申报        1\n",
       "环境影响评价工程师职业资格考试考全科申报      1\n",
       "Name: count, dtype: int64"
      ]
     },
     "execution_count": 5,
     "metadata": {},
     "output_type": "execute_result"
    }
   ],
   "source": [
    "df[\"业务办理项名称\"].value_counts()"
   ]
  },
  {
   "cell_type": "code",
   "execution_count": 6,
   "id": "1ec2ccc5",
   "metadata": {},
   "outputs": [
    {
     "data": {
      "text/plain": [
       "主项名称\n",
       "残疾人证办理          384\n",
       "公共就业服务专项活动      164\n",
       "专业技术人员资格考试报名      2\n",
       "Name: count, dtype: int64"
      ]
     },
     "execution_count": 6,
     "metadata": {},
     "output_type": "execute_result"
    }
   ],
   "source": [
    "df[\"主项名称\"].value_counts()"
   ]
  }
 ],
 "metadata": {
  "kernelspec": {
   "display_name": "pandas",
   "language": "python",
   "name": "python3"
  },
  "language_info": {
   "codemirror_mode": {
    "name": "ipython",
    "version": 3
   },
   "file_extension": ".py",
   "mimetype": "text/x-python",
   "name": "python",
   "nbconvert_exporter": "python",
   "pygments_lexer": "ipython3",
   "version": "3.10.17"
  }
 },
 "nbformat": 4,
 "nbformat_minor": 5
}
