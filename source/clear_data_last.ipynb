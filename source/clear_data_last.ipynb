{
 "cells": [
  {
   "cell_type": "markdown",
   "id": "2c9d8e1a",
   "metadata": {},
   "source": [
    "### 清洗数据"
   ]
  },
  {
   "cell_type": "code",
   "execution_count": null,
   "id": "7b60f840",
   "metadata": {},
   "outputs": [],
   "source": [
    "import pandas as pd\n",
    "# 读取 Excel 文件（支持 .xlsx 和 .xls）\n",
    "df = pd.read_excel(\"./基本信息最终.xlsx\", sheet_name=\"基本信息\")  # 可指定工作表\n",
    "# df = pd.read_excel(\"./基本信息整理.xlsx\", sheet_name=\"基本信息\")  # 可指定工作表\n",
    "df.info()"
   ]
  },
  {
   "cell_type": "code",
   "execution_count": null,
   "id": "25c9a682",
   "metadata": {},
   "outputs": [],
   "source": [
    "# 统计每个主项的不重复业务办理项数量\n",
    "unique_counts = df.groupby('主项名称')['业务办理项名称'].nunique()\n",
    "\n",
    "# 求总和\n",
    "total_unique_subitems = unique_counts.sum()\n",
    "\n",
    "print(\"所有主项名称对应的不重复业务办理项（业务办理项名称）总数为：\", total_unique_subitems)\n",
    "\n",
    "# 按主项名称，统计不重复的业务办理项名称数量\n",
    "unique_counts = df.groupby(\n",
    "    '主项名称')['业务办理项名称'].nunique().reset_index(name='不重复业务办理项数量')\n",
    "\n",
    "# 过滤出不重复业务办理项数量大于5的主项\n",
    "filtered = unique_counts[unique_counts['不重复业务办理项数量'] > 5]\n",
    "\n",
    "# 输出满足条件的主项个数\n",
    "print(\"不重复业务办理项数量大于5的主项名称有：\", len(filtered), \"个\")\n",
    "\n",
    "# 可选：打印这些主项名称及其业务办理项数量\n",
    "print(filtered)"
   ]
  },
  {
   "cell_type": "code",
   "execution_count": null,
   "id": "137d6ec8",
   "metadata": {},
   "outputs": [],
   "source": [
    "import pandas as pd\n",
    "\n",
    "# 假设你已经有一个名为 df 的 DataFrame，包含 '主项名称' 和 '子项名称' 两列\n",
    "\n",
    "# 1. 按主项名称统计不重复的子项名称数量\n",
    "result = df.groupby('主项名称')['子项名称'].nunique().reset_index(name='不重复子项数量')\n",
    "\n",
    "# 2. 按数量从高到低排序\n",
    "result = result.sort_values(by='不重复子项数量', ascending=False)\n",
    "\n",
    "# 3. 显示结果\n",
    "print(result)"
   ]
  },
  {
   "cell_type": "code",
   "execution_count": null,
   "id": "9a4b0d63",
   "metadata": {},
   "outputs": [],
   "source": [
    "# Assuming 'df' is your original DataFrame\n",
    "unique_data = df.drop_duplicates(subset=['主项名称'])[['主项名称', '部门名称']]\n",
    "unique_data.to_excel(\"不重复主项名称02.xlsx\", index=False)"
   ]
  },
  {
   "cell_type": "code",
   "execution_count": null,
   "id": "187b2a55",
   "metadata": {},
   "outputs": [],
   "source": [
    "import pandas as pd\n",
    "# 读取 Excel 文件（支持 .xlsx 和 .xls）\n",
    "df = pd.read_excel(\"./全部基本信息.xlsx\", sheet_name=\"基本信息\")  # 可指定工作表\n",
    "# df = pd.read_excel(\"./基本信息整理.xlsx\", sheet_name=\"基本信息\")  # 可指定工作表\n",
    "# df.info()  # df1 = df[\"主项名称\"].unique()\n",
    "# unique_names = pd.DataFrame(df['主项名称'].unique(), columns=['主项名称'])\n",
    "# unique_names = df.drop_duplicates(subset=['主项名称'])[['主项名称', '部门名称']]\n",
    "# unique_names = pd.DataFrame(df['主项名称'].unique(), columns=['主项名称',\"部门名称\"])\n",
    "# unique_names\n",
    "unique_data = df.drop_duplicates(subset=['主项名称'])[['主项名称', '部门名称']]\n",
    "unique_data.to_excel(\"不重复主项名称02.xlsx\", index=False)"
   ]
  },
  {
   "cell_type": "code",
   "execution_count": null,
   "id": "b1307899",
   "metadata": {},
   "outputs": [],
   "source": [
    "# 标记所有重复行\n",
    "duplicates = df.duplicated(keep=False)  # keep=False 标记所有重复项\n",
    "print(\"重复行：\")\n",
    "print(df[duplicates])"
   ]
  },
  {
   "cell_type": "code",
   "execution_count": null,
   "id": "bf8c1c94",
   "metadata": {},
   "outputs": [],
   "source": [
    "# 统计每列的缺失值数量\n",
    "# import matplotlib.pyplot as plt\n",
    "missing_values = df.isnull().sum()\n",
    "print(\"缺失值统计：\")\n",
    "print(missing_values)\n",
    "\n",
    "# 可视化缺失值（需安装 matplotlib）\n",
    "# missing_values.plot(kind='bar', title='缺失值分布')\n",
    "# plt.show()"
   ]
  },
  {
   "cell_type": "markdown",
   "id": "68ed3a25",
   "metadata": {},
   "source": [
    "### 电话号码校验"
   ]
  },
  {
   "cell_type": "code",
   "execution_count": null,
   "id": "1e1364c8",
   "metadata": {},
   "outputs": [],
   "source": [
    "# 使用 str.match() 匹配正则表达式\n",
    "pattern = r'^\\d{4}-\\d{8}$|^\\d{11}$'  # 合法格式的正则\n",
    "df[\"是否合法\"] = df[\"咨询方式\"].str.match(pattern)\n",
    "\n",
    "# 筛选出不合法的记录\n",
    "invalid_phones = df[~df[\"是否合法\"]]\n",
    "invalid_phones"
   ]
  },
  {
   "cell_type": "code",
   "execution_count": null,
   "id": "7b77ddae",
   "metadata": {},
   "outputs": [],
   "source": [
    "# 按 \"主项名称\" 和 \"子项名称\" 分组，并统计每组的业务办理项数量\n",
    "result = df.groupby(['主项名称', '子项名称']).size().reset_index(\n",
    "    name='业务办理项数量').sort_values('业务办理项数量', ascending=False)\n",
    "\n",
    "print(result)"
   ]
  },
  {
   "cell_type": "code",
   "execution_count": null,
   "id": "abb09cab",
   "metadata": {},
   "outputs": [],
   "source": [
    "# 按 \"主项名称\" 和 \"子项名称\" 分组，并统计每组的业务办理项数量\n",
    "result = df.groupby(['主项名称', '子项名称']).size().reset_index(\n",
    "    name='业务办理项数量').sort_values('业务办理项数量', ascending=False)\n",
    "\n",
    "print(result)"
   ]
  },
  {
   "cell_type": "code",
   "execution_count": null,
   "id": "b9533258",
   "metadata": {},
   "outputs": [],
   "source": [
    "# 按 \"子项名称\" 分组，统计每组的记录数（包括重复项和空值）\n",
    "result = df.groupby('子项名称').size().reset_index(\n",
    "    name='业务办理项数量').sort_values('业务办理项数量', ascending=False)\n",
    "\n",
    "print(result)"
   ]
  },
  {
   "cell_type": "code",
   "execution_count": null,
   "id": "4060210d",
   "metadata": {},
   "outputs": [],
   "source": [
    "import pandas as pd\n",
    "\n",
    "# 假设你的数据框名为 df\n",
    "# 假设业务办理项的列名为\"业务办理项名称\"（请替换为实际列名）\n",
    "\n",
    "# 方法：按\"子项名称\"分组，对\"业务办理项名称\"进行不重复计数\n",
    "result = df.groupby('子项名称')['业务办理项名称'].nunique().reset_index(name='不重复业务办理项数量') \\\n",
    "    .sort_values('不重复业务办理项数量', ascending=False) \\\n",
    "    .reset_index(drop=True)\n",
    "\n",
    "print(result)"
   ]
  },
  {
   "cell_type": "code",
   "execution_count": null,
   "id": "9323e4f2",
   "metadata": {},
   "outputs": [],
   "source": []
  },
  {
   "cell_type": "code",
   "execution_count": null,
   "id": "61e52dff",
   "metadata": {},
   "outputs": [],
   "source": [
    "# 按 \"主项名称\" 和 \"子项名称\" 分组，并统计每组的业务办理项数量\n",
    "# result = df.groupby(['主项名称']).size().reset_index(\n",
    "#     name='业务办理项数量').sort_values('业务办理项数量', ascending=False)\n",
    "result = df.groupby('主项名称')['业务办理项名称'].nunique().reset_index(name='不重复业务办理项数量') \\\n",
    "    .sort_values('不重复业务办理项数量', ascending=False) \\\n",
    "    .reset_index(drop=True)\n",
    "print(result.head(15))"
   ]
  },
  {
   "cell_type": "code",
   "execution_count": null,
   "id": "04ac86ae",
   "metadata": {},
   "outputs": [],
   "source": [
    "\n",
    "result = df.groupby(['主项名称', '子项名称'])['业务办理项名称'].nunique().reset_index(name='不重复业务办理项数量') \\\n",
    "    .sort_values('不重复业务办理项数量', ascending=False) \\\n",
    "    .reset_index(drop=True)\n",
    "print(result)"
   ]
  },
  {
   "cell_type": "code",
   "execution_count": null,
   "id": "3c5fcb7a",
   "metadata": {},
   "outputs": [],
   "source": [
    "san_dao_data = df[df['区划名称'] == '三道村']\n",
    "print(san_dao_data[['区划名称', '上级区划名称']])"
   ]
  },
  {
   "cell_type": "code",
   "execution_count": null,
   "id": "76729790",
   "metadata": {},
   "outputs": [],
   "source": [
    "import pandas as pd\n",
    "# 读取 Excel 文件（支持 .xlsx 和 .xls）\n",
    "df = pd.read_excel(\"./全部基本信息.xlsx\", sheet_name=\"基本信息\")  # 可指定工作表\n",
    "# df = pd.read_excel(\"./基本信息整理.xlsx\", sheet_name=\"基本信息\")  # 可指定工作表\n",
    "df.info()\n",
    "# 选择需要的列并去重\n",
    "unique_districts = df[['区划名称', '地区层级', '上级区划名称']].drop_duplicates()\n",
    "\n",
    "# 保存到新的Excel文件\n",
    "output_file = '不重复区划数据01.xlsx'\n",
    "unique_districts.to_excel(output_file, index=False)\n",
    "\n",
    "print(f\"已保存不重复区划数据到: {output_file}\")\n",
    "print(f\"共保存 {len(unique_districts)} 条不重复记录\")"
   ]
  },
  {
   "cell_type": "code",
   "execution_count": null,
   "id": "dd4be386",
   "metadata": {},
   "outputs": [],
   "source": [
    "# 筛选两列相等的行\n",
    "result = df[df['主项名称'] == df['业务办理项名称']]\n",
    "# 主项名称')['业务办理项名称\n",
    "result.head()"
   ]
  },
  {
   "cell_type": "code",
   "execution_count": null,
   "id": "cb59eda8",
   "metadata": {},
   "outputs": [],
   "source": [
    "print((df['主项名称'] == df['业务办理项名称']).value_counts())"
   ]
  },
  {
   "cell_type": "code",
   "execution_count": 1,
   "id": "e543ba0a",
   "metadata": {},
   "outputs": [
    {
     "name": "stdout",
     "output_type": "stream",
     "text": [
      "7\n"
     ]
    }
   ],
   "source": [
    "str=\"我们大家一起来\"\n",
    "print(len(str))"
   ]
  }
 ],
 "metadata": {
  "kernelspec": {
   "display_name": "pandas",
   "language": "python",
   "name": "python3"
  },
  "language_info": {
   "codemirror_mode": {
    "name": "ipython",
    "version": 3
   },
   "file_extension": ".py",
   "mimetype": "text/x-python",
   "name": "python",
   "nbconvert_exporter": "python",
   "pygments_lexer": "ipython3",
   "version": "3.10.17"
  }
 },
 "nbformat": 4,
 "nbformat_minor": 5
}
