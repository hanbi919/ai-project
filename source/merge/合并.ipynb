{
 "cells": [
  {
   "cell_type": "markdown",
   "id": "a8354cc7",
   "metadata": {},
   "source": [
    "### 读入数据"
   ]
  },
  {
   "cell_type": "code",
   "execution_count": 1,
   "id": "00a07e9f",
   "metadata": {},
   "outputs": [],
   "source": [
    "import pandas as pd\n",
    "\n",
    "# 读取两个 Excel 文件\n",
    "df1 = pd.read_excel(\"./全市.xlsx\")\n",
    "df2 = pd.read_excel(\"./新区.xlsx\")\n",
    "\n"
   ]
  },
  {
   "cell_type": "code",
   "execution_count": 2,
   "id": "8050ad32",
   "metadata": {},
   "outputs": [
    {
     "name": "stdout",
     "output_type": "stream",
     "text": [
      "<class 'pandas.core.frame.DataFrame'>\n",
      "RangeIndex: 34273 entries, 0 to 34272\n",
      "Data columns (total 14 columns):\n",
      " #   Column   Non-Null Count  Dtype \n",
      "---  ------   --------------  ----- \n",
      " 0   区划名称     34273 non-null  object\n",
      " 1   地区层级     34273 non-null  object\n",
      " 2   上级区划名称   34273 non-null  object\n",
      " 3   主项名称     34273 non-null  object\n",
      " 4   子项名称     14345 non-null  object\n",
      " 5   业务办理项名称  34273 non-null  object\n",
      " 6   承诺办结时限   34273 non-null  int64 \n",
      " 7   是否收费     34273 non-null  object\n",
      " 8   受理条件     34273 non-null  object\n",
      " 9   办理地点     34273 non-null  object\n",
      " 10  办理时间     34273 non-null  object\n",
      " 11  咨询方式     34273 non-null  object\n",
      " 12  材料名称     28537 non-null  object\n",
      " 13  情形       2766 non-null   object\n",
      "dtypes: int64(1), object(13)\n",
      "memory usage: 3.7+ MB\n"
     ]
    }
   ],
   "source": [
    "df1.info()"
   ]
  },
  {
   "cell_type": "code",
   "execution_count": 3,
   "id": "78b2bcfc",
   "metadata": {},
   "outputs": [
    {
     "name": "stdout",
     "output_type": "stream",
     "text": [
      "<class 'pandas.core.frame.DataFrame'>\n",
      "RangeIndex: 2262 entries, 0 to 2261\n",
      "Data columns (total 14 columns):\n",
      " #   Column   Non-Null Count  Dtype \n",
      "---  ------   --------------  ----- \n",
      " 0   区划名称     2262 non-null   object\n",
      " 1   地区层级     2262 non-null   object\n",
      " 2   上级区划名称   2262 non-null   object\n",
      " 3   主项名称     2262 non-null   object\n",
      " 4   子项名称     563 non-null    object\n",
      " 5   业务办理项名称  2262 non-null   object\n",
      " 6   承诺办结时限   2262 non-null   int64 \n",
      " 7   是否收费     2262 non-null   object\n",
      " 8   受理条件     2262 non-null   object\n",
      " 9   办理地点     2262 non-null   object\n",
      " 10  办理时间     2262 non-null   object\n",
      " 11  咨询方式     2262 non-null   object\n",
      " 12  材料名称     2147 non-null   object\n",
      " 13  情形       212 non-null    object\n",
      "dtypes: int64(1), object(13)\n",
      "memory usage: 247.5+ KB\n"
     ]
    }
   ],
   "source": [
    "df2.info()"
   ]
  },
  {
   "cell_type": "code",
   "execution_count": 4,
   "id": "2838cd64",
   "metadata": {},
   "outputs": [
    {
     "name": "stdout",
     "output_type": "stream",
     "text": [
      "<class 'pandas.core.frame.DataFrame'>\n",
      "RangeIndex: 36535 entries, 0 to 36534\n",
      "Data columns (total 14 columns):\n",
      " #   Column   Non-Null Count  Dtype \n",
      "---  ------   --------------  ----- \n",
      " 0   区划名称     36535 non-null  object\n",
      " 1   地区层级     36535 non-null  object\n",
      " 2   上级区划名称   36535 non-null  object\n",
      " 3   主项名称     36535 non-null  object\n",
      " 4   子项名称     14908 non-null  object\n",
      " 5   业务办理项名称  36535 non-null  object\n",
      " 6   承诺办结时限   36535 non-null  int64 \n",
      " 7   是否收费     36535 non-null  object\n",
      " 8   受理条件     36535 non-null  object\n",
      " 9   办理地点     36535 non-null  object\n",
      " 10  办理时间     36535 non-null  object\n",
      " 11  咨询方式     36535 non-null  object\n",
      " 12  材料名称     30684 non-null  object\n",
      " 13  情形       2978 non-null   object\n",
      "dtypes: int64(1), object(13)\n",
      "memory usage: 3.9+ MB\n"
     ]
    }
   ],
   "source": [
    "# 按行合并（忽略原有索引）\n",
    "merged_df = pd.concat([df1, df2], ignore_index=True)\n",
    "\n",
    "# 保存结果\n",
    "merged_df.to_excel(\"./全市全部.xlsx\", index=False)\n",
    "\n",
    "merged_df.info()"
   ]
  }
 ],
 "metadata": {
  "kernelspec": {
   "display_name": "pandas",
   "language": "python",
   "name": "python3"
  },
  "language_info": {
   "codemirror_mode": {
    "name": "ipython",
    "version": 3
   },
   "file_extension": ".py",
   "mimetype": "text/x-python",
   "name": "python",
   "nbconvert_exporter": "python",
   "pygments_lexer": "ipython3",
   "version": "3.10.17"
  }
 },
 "nbformat": 4,
 "nbformat_minor": 5
}
