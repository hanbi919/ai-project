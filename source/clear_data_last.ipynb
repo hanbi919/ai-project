{
 "cells": [
  {
   "cell_type": "markdown",
   "id": "2c9d8e1a",
   "metadata": {},
   "source": [
    "### 清洗数据"
   ]
  },
  {
   "cell_type": "code",
   "execution_count": 1,
   "id": "7b60f840",
   "metadata": {},
   "outputs": [
    {
     "name": "stdout",
     "output_type": "stream",
     "text": [
      "<class 'pandas.core.frame.DataFrame'>\n",
      "RangeIndex: 34608 entries, 0 to 34607\n",
      "Data columns (total 12 columns):\n",
      " #   Column   Non-Null Count  Dtype \n",
      "---  ------   --------------  ----- \n",
      " 0   区划名称     34608 non-null  object\n",
      " 1   上级区划名称   34608 non-null  object\n",
      " 2   主项名称     34608 non-null  object\n",
      " 3   业务办理项名称  34608 non-null  object\n",
      " 4   承诺办结时限   34608 non-null  int64 \n",
      " 5   是否收费     34608 non-null  object\n",
      " 6   受理条件     34608 non-null  object\n",
      " 7   办理地点     34608 non-null  object\n",
      " 8   办理时间     34608 non-null  object\n",
      " 9   咨询方式     34608 non-null  object\n",
      " 10  材料名称     28873 non-null  object\n",
      " 11  情形       2799 non-null   object\n",
      "dtypes: int64(1), object(11)\n",
      "memory usage: 3.2+ MB\n"
     ]
    }
   ],
   "source": [
    "import pandas as pd\n",
    "# 读取 Excel 文件（支持 .xlsx 和 .xls）\n",
    "df = pd.read_excel(\"./基本信息最终.xlsx\", sheet_name=\"基本信息\")  # 可指定工作表\n",
    "# df = pd.read_excel(\"./基本信息整理.xlsx\", sheet_name=\"基本信息\")  # 可指定工作表\n",
    "df.info()"
   ]
  },
  {
   "cell_type": "code",
   "execution_count": 2,
   "id": "25c9a682",
   "metadata": {},
   "outputs": [
    {
     "name": "stdout",
     "output_type": "stream",
     "text": [
      "所有主项名称对应的不重复业务办理项（业务办理项名称）总数为： 2418\n",
      "不重复业务办理项数量大于5的主项名称有： 96 个\n",
      "                              主项名称  不重复业务办理项数量\n",
      "7                          不动产统一登记         145\n",
      "9                     专业技术人员资格考试报名          84\n",
      "19                  个体演员、个体演出经纪人备案           8\n",
      "25   中外合资经营、中外合作经营企业申请从事娱乐场所经营活动审批          15\n",
      "34      举办台湾地区的文艺表演团体、个人参加的营业性演出审批           6\n",
      "..                             ...         ...\n",
      "920                降低旅游服务质量保证金资格确认          10\n",
      "937              食品小作坊、小餐饮店、小食杂店登记          21\n",
      "939                      食品添加剂生产许可           7\n",
      "940                         食品生产许可           7\n",
      "941                         食品经营许可           8\n",
      "\n",
      "[96 rows x 2 columns]\n"
     ]
    }
   ],
   "source": [
    "# 统计每个主项的不重复业务办理项数量\n",
    "unique_counts = df.groupby('主项名称')['业务办理项名称'].nunique()\n",
    "\n",
    "# 求总和\n",
    "total_unique_subitems = unique_counts.sum()\n",
    "\n",
    "print(\"所有主项名称对应的不重复业务办理项（业务办理项名称）总数为：\", total_unique_subitems)\n",
    "\n",
    "# 按主项名称，统计不重复的业务办理项名称数量\n",
    "unique_counts = df.groupby(\n",
    "    '主项名称')['业务办理项名称'].nunique().reset_index(name='不重复业务办理项数量')\n",
    "\n",
    "# 过滤出不重复业务办理项数量大于5的主项\n",
    "filtered = unique_counts[unique_counts['不重复业务办理项数量'] > 5]\n",
    "\n",
    "# 输出满足条件的主项个数\n",
    "print(\"不重复业务办理项数量大于5的主项名称有：\", len(filtered), \"个\")\n",
    "\n",
    "# 可选：打印这些主项名称及其业务办理项数量\n",
    "print(filtered)"
   ]
  },
  {
   "cell_type": "code",
   "execution_count": 28,
   "id": "137d6ec8",
   "metadata": {},
   "outputs": [
    {
     "name": "stdout",
     "output_type": "stream",
     "text": [
      "                     主项名称  不重复子项数量\n",
      "94            住房公积金归集业务审批       28\n",
      "474                工伤保险服务       21\n",
      "10           专业技术人员资格考试报名       17\n",
      "886           职工提取住房公积金审批       17\n",
      "147                养老保险服务       15\n",
      "...                   ...      ...\n",
      "1002             附加税（费）申报        0\n",
      "1003      降低旅游服务质量保证金资格确认        0\n",
      "1           《独生子女父母光荣证》申办        0\n",
      "1005     限售股转让所得个人所得税清算申报        0\n",
      "0     1至4级分散供养残疾士兵购（建）房经费        0\n",
      "\n",
      "[1039 rows x 2 columns]\n"
     ]
    }
   ],
   "source": [
    "import pandas as pd\n",
    "\n",
    "# 假设你已经有一个名为 df 的 DataFrame，包含 '主项名称' 和 '子项名称' 两列\n",
    "\n",
    "# 1. 按主项名称统计不重复的子项名称数量\n",
    "result = df.groupby('主项名称')['子项名称'].nunique().reset_index(name='不重复子项数量')\n",
    "\n",
    "# 2. 按数量从高到低排序\n",
    "result = result.sort_values(by='不重复子项数量', ascending=False)\n",
    "\n",
    "# 3. 显示结果\n",
    "print(result)"
   ]
  },
  {
   "cell_type": "code",
   "execution_count": null,
   "id": "187b2a55",
   "metadata": {},
   "outputs": [],
   "source": [
    "# df1 = df[\"主项名称\"].unique()\n",
    "unique_names = pd.DataFrame(df['主项名称'].unique(), columns=['主项名称'])\n",
    "unique_names\n",
    "# unique_names.to_excel(\"不重复主项名称\", index=False)"
   ]
  },
  {
   "cell_type": "code",
   "execution_count": null,
   "id": "0aae6922",
   "metadata": {},
   "outputs": [],
   "source": [
    "unique_names.to_excel(\"不重复主项名称.xlsx\", index=False)"
   ]
  },
  {
   "cell_type": "code",
   "execution_count": null,
   "id": "b1307899",
   "metadata": {},
   "outputs": [],
   "source": [
    "# 标记所有重复行\n",
    "duplicates = df.duplicated(keep=False)  # keep=False 标记所有重复项\n",
    "print(\"重复行：\")\n",
    "print(df[duplicates])"
   ]
  },
  {
   "cell_type": "code",
   "execution_count": null,
   "id": "bf8c1c94",
   "metadata": {},
   "outputs": [],
   "source": [
    "# 统计每列的缺失值数量\n",
    "# import matplotlib.pyplot as plt\n",
    "missing_values = df.isnull().sum()\n",
    "print(\"缺失值统计：\")\n",
    "print(missing_values)\n",
    "\n",
    "# 可视化缺失值（需安装 matplotlib）\n",
    "# missing_values.plot(kind='bar', title='缺失值分布')\n",
    "# plt.show()"
   ]
  },
  {
   "cell_type": "markdown",
   "id": "68ed3a25",
   "metadata": {},
   "source": [
    "### 电话号码校验"
   ]
  },
  {
   "cell_type": "code",
   "execution_count": null,
   "id": "1e1364c8",
   "metadata": {},
   "outputs": [],
   "source": [
    "# 使用 str.match() 匹配正则表达式\n",
    "pattern = r'^\\d{4}-\\d{8}$|^\\d{11}$'  # 合法格式的正则\n",
    "df[\"是否合法\"] = df[\"咨询方式\"].str.match(pattern)\n",
    "\n",
    "# 筛选出不合法的记录\n",
    "invalid_phones = df[~df[\"是否合法\"]]\n",
    "invalid_phones"
   ]
  },
  {
   "cell_type": "code",
   "execution_count": null,
   "id": "7b77ddae",
   "metadata": {},
   "outputs": [],
   "source": [
    "# 按 \"主项名称\" 和 \"子项名称\" 分组，并统计每组的业务办理项数量\n",
    "result = df.groupby(['主项名称', '子项名称']).size().reset_index(\n",
    "    name='业务办理项数量').sort_values('业务办理项数量', ascending=False)\n",
    "\n",
    "print(result)"
   ]
  },
  {
   "cell_type": "code",
   "execution_count": 29,
   "id": "abb09cab",
   "metadata": {},
   "outputs": [
    {
     "name": "stdout",
     "output_type": "stream",
     "text": [
      "                          主项名称                      子项名称  业务办理项数量\n",
      "173                     就业失业登记                      就业登记      695\n",
      "4                      不动产统一登记                   建设用地使用权      661\n",
      "171                     就业失业登记                 《就业创业证》申领      373\n",
      "167  对就业困难人员（含建档立卡贫困劳动力）实施就业援助            就业困难人员社会保险补贴申领      323\n",
      "247                     户口迁移审批              户口迁移审批（县级权限）      315\n",
      "..                         ...                       ...      ...\n",
      "77          保安服务公司设立及法定代表人变更许可           保安服务公司法定代表人变更许可        1\n",
      "78          保安服务公司设立及法定代表人变更许可                保安服务公司设立许可        1\n",
      "280                 林草植物检疫证书核发  省内调运林草植物检疫证书核发（ 设区的市级权限）        1\n",
      "283          枪支及枪支主要零部件、弹药运输许可             省级行政区域内运输枪支许可        1\n",
      "412                     非机动车登记           非机动车登记（设区的市级权限）        1\n",
      "\n",
      "[417 rows x 3 columns]\n"
     ]
    }
   ],
   "source": [
    "# 按 \"主项名称\" 和 \"子项名称\" 分组，并统计每组的业务办理项数量\n",
    "result = df.groupby(['主项名称', '子项名称']).size().reset_index(\n",
    "    name='业务办理项数量').sort_values('业务办理项数量', ascending=False)\n",
    "\n",
    "print(result)"
   ]
  },
  {
   "cell_type": "code",
   "execution_count": 30,
   "id": "b9533258",
   "metadata": {},
   "outputs": [
    {
     "name": "stdout",
     "output_type": "stream",
     "text": [
      "                                          子项名称  业务办理项数量\n",
      "174                                       就业登记      695\n",
      "206                                    建设用地使用权      661\n",
      "1                                    《就业创业证》申领      373\n",
      "172                             就业困难人员社会保险补贴申领      323\n",
      "220                               户口迁移审批（县级权限）      315\n",
      "..                                         ...      ...\n",
      "360                  设区的市级行政区域内跨县级行政区域举行游行示威许可        1\n",
      "363                                  货物出口许可证审批        1\n",
      "384  运输危险化学品的车辆进入危险化学品运输车辆限制通行区域审批（设区的市级行政区域内）        1\n",
      "385                              运输第一类易制毒化学品许可        1\n",
      "17                                中等职业学校教师资格认定        1\n",
      "\n",
      "[415 rows x 2 columns]\n"
     ]
    }
   ],
   "source": [
    "# 按 \"子项名称\" 分组，统计每组的记录数（包括重复项和空值）\n",
    "result = df.groupby('子项名称').size().reset_index(\n",
    "    name='业务办理项数量').sort_values('业务办理项数量', ascending=False)\n",
    "\n",
    "print(result)"
   ]
  },
  {
   "cell_type": "code",
   "execution_count": 35,
   "id": "4060210d",
   "metadata": {},
   "outputs": [
    {
     "name": "stdout",
     "output_type": "stream",
     "text": [
      "                          子项名称  不重复业务办理项数量\n",
      "0                      建设用地使用权          60\n",
      "1                    勘察设计注册工程师          33\n",
      "2                 户口迁移审批（县级权限）          21\n",
      "3                        抵押权登记          17\n",
      "4                         查封登记          16\n",
      "..                         ...         ...\n",
      "410     企业实行不定时工作制和综合计算工时工作制审批           1\n",
      "411  设区的市级行政区域内跨县级行政区域举行游行示威许可           1\n",
      "412                  设置非公路标志审批           1\n",
      "413                 调整年度用水计划批准           1\n",
      "414                  货物出口许可证审批           1\n",
      "\n",
      "[415 rows x 2 columns]\n"
     ]
    }
   ],
   "source": [
    "import pandas as pd\n",
    "\n",
    "# 假设你的数据框名为 df\n",
    "# 假设业务办理项的列名为\"业务办理项名称\"（请替换为实际列名）\n",
    "\n",
    "# 方法：按\"子项名称\"分组，对\"业务办理项名称\"进行不重复计数\n",
    "result = df.groupby('子项名称')['业务办理项名称'].nunique().reset_index(name='不重复业务办理项数量') \\\n",
    "    .sort_values('不重复业务办理项数量', ascending=False) \\\n",
    "    .reset_index(drop=True)\n",
    "\n",
    "print(result)"
   ]
  },
  {
   "cell_type": "code",
   "execution_count": null,
   "id": "9323e4f2",
   "metadata": {},
   "outputs": [],
   "source": []
  },
  {
   "cell_type": "code",
   "execution_count": 34,
   "id": "61e52dff",
   "metadata": {},
   "outputs": [
    {
     "name": "stdout",
     "output_type": "stream",
     "text": [
      "                             主项名称  不重复业务办理项数量\n",
      "0                         不动产统一登记         144\n",
      "1                    专业技术人员资格考试报名          82\n",
      "2                     住房公积金归集业务审批          49\n",
      "3                     职工提取住房公积金审批          38\n",
      "4                          企业登记注册          30\n",
      "5                        企业投资项目核准          23\n",
      "6                          户口迁移审批          21\n",
      "7                          工伤保险服务          21\n",
      "8               食品小作坊、小餐饮店、小食杂店登记          21\n",
      "9                          养老保险服务          18\n",
      "10       内地居民前往港澳通行证、往来港澳通行证和签注签发          17\n",
      "11              民办非企业单位成立、变更、注销登记          16\n",
      "12                 社会团体成立、变更、注销登记          16\n",
      "13               娱乐场所从事娱乐场所经营活动审批          15\n",
      "14  中外合资经营、中外合作经营企业申请从事娱乐场所经营活动审批          15\n"
     ]
    }
   ],
   "source": [
    "# 按 \"主项名称\" 和 \"子项名称\" 分组，并统计每组的业务办理项数量\n",
    "# result = df.groupby(['主项名称']).size().reset_index(\n",
    "#     name='业务办理项数量').sort_values('业务办理项数量', ascending=False)\n",
    "result = df.groupby('主项名称')['业务办理项名称'].nunique().reset_index(name='不重复业务办理项数量') \\\n",
    "    .sort_values('不重复业务办理项数量', ascending=False) \\\n",
    "    .reset_index(drop=True)\n",
    "print(result.head(15))"
   ]
  },
  {
   "cell_type": "code",
   "execution_count": null,
   "id": "04ac86ae",
   "metadata": {},
   "outputs": [],
   "source": [
    "\n",
    "result = df.groupby(['主项名称', '子项名称'])['业务办理项名称'].nunique().reset_index(name='不重复业务办理项数量') \\\n",
    "    .sort_values('不重复业务办理项数量', ascending=False) \\\n",
    "    .reset_index(drop=True)\n",
    "print(result)"
   ]
  },
  {
   "cell_type": "code",
   "execution_count": null,
   "id": "3c5fcb7a",
   "metadata": {},
   "outputs": [],
   "source": [
    "san_dao_data = df[df['区划名称'] == '三道村']\n",
    "print(san_dao_data[['区划名称', '上级区划名称']])"
   ]
  },
  {
   "cell_type": "code",
   "execution_count": null,
   "id": "76729790",
   "metadata": {},
   "outputs": [],
   "source": [
    "# 选择需要的列并去重\n",
    "unique_districts = df[['区划名称', '地区层级', '上级区划名称']].drop_duplicates()\n",
    "\n",
    "# 保存到新的Excel文件\n",
    "output_file = '不重复区划数据.xlsx'\n",
    "unique_districts.to_excel(output_file, index=False)\n",
    "\n",
    "print(f\"已保存不重复区划数据到: {output_file}\")\n",
    "print(f\"共保存 {len(unique_districts)} 条不重复记录\")"
   ]
  },
  {
   "cell_type": "code",
   "execution_count": null,
   "id": "dd4be386",
   "metadata": {},
   "outputs": [],
   "source": []
  }
 ],
 "metadata": {
  "kernelspec": {
   "display_name": "pandas",
   "language": "python",
   "name": "python3"
  },
  "language_info": {
   "codemirror_mode": {
    "name": "ipython",
    "version": 3
   },
   "file_extension": ".py",
   "mimetype": "text/x-python",
   "name": "python",
   "nbconvert_exporter": "python",
   "pygments_lexer": "ipython3",
   "version": "3.10.17"
  }
 },
 "nbformat": 4,
 "nbformat_minor": 5
}
