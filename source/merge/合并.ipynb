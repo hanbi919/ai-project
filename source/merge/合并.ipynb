{
 "cells": [
  {
   "cell_type": "markdown",
   "id": "a8354cc7",
   "metadata": {},
   "source": [
    "### 读入数据"
   ]
  },
  {
   "cell_type": "code",
   "execution_count": null,
   "id": "00a07e9f",
   "metadata": {},
   "outputs": [],
   "source": [
    "import pandas as pd\n",
    "\n",
    "# 读取两个 Excel 文件\n",
    "df1 = pd.read_excel(\"./全市.xlsx\")\n",
    "df2 = pd.read_excel(\"./新区.xlsx\")\n",
    "\n"
   ]
  },
  {
   "cell_type": "code",
   "execution_count": null,
   "id": "8050ad32",
   "metadata": {},
   "outputs": [],
   "source": [
    "df1.info()"
   ]
  },
  {
   "cell_type": "code",
   "execution_count": null,
   "id": "78b2bcfc",
   "metadata": {},
   "outputs": [],
   "source": [
    "df2.info()"
   ]
  },
  {
   "cell_type": "code",
   "execution_count": null,
   "id": "2838cd64",
   "metadata": {},
   "outputs": [],
   "source": [
    "# 按行合并（忽略原有索引）\n",
    "merged_df = pd.concat([df1, df2], ignore_index=True)\n",
    "\n",
    "# 保存结果\n",
    "merged_df.to_excel(\"./全市全部.xlsx\", index=False)\n",
    "\n",
    "merged_df.info()"
   ]
  },
  {
   "cell_type": "code",
   "execution_count": null,
   "id": "fa9a1a09",
   "metadata": {},
   "outputs": [],
   "source": [
    "# 读取两个 Excel 文件\n",
    "df= pd.read_excel(\"./全市全部.xlsx\")\n",
    "df.info()"
   ]
  },
  {
   "cell_type": "code",
   "execution_count": null,
   "id": "9b3a82b8",
   "metadata": {},
   "outputs": [],
   "source": [
    "# 查找主项名称包含\"公积金\"的不重复子项名称\n",
    "result = df[df['主项名称'].str.contains('公积金')]['子项名称'].drop_duplicates()\n",
    "\n",
    "result.head()"
   ]
  },
  {
   "cell_type": "code",
   "execution_count": null,
   "id": "bcf85b5b",
   "metadata": {},
   "outputs": [],
   "source": [
    "# 查找主项名称包含\"公积金\"的记录，并按子项名称去重\n",
    "result = df[df['主项名称'].str.contains('公积金')].drop_duplicates(subset=['子项名称'])\n",
    "\n",
    "print(result[['主项名称', '子项名称']])\n",
    "export = result[['主项名称', '子项名称']]\n",
    "export.to_excel(\"子项名称(公积金).xlsx\", index=False)"
   ]
  },
  {
   "cell_type": "markdown",
   "id": "fe35b6aa",
   "metadata": {},
   "source": [
    "### 导出包含 企业登记注册 的数据"
   ]
  },
  {
   "cell_type": "code",
   "execution_count": null,
   "id": "9b4955ba",
   "metadata": {},
   "outputs": [],
   "source": [
    "# 查找主项名称包含\"公积金\"的记录，并按子项名称去重\n",
    "result = df[df['主项名称'].str.contains('企业登记注册')].drop_duplicates(subset=['业务办理项名称'])\n",
    "\n",
    "# print(result[['主项名称', '子项名称']])\n",
    "export = result[['主项名称', '业务办理项名称']]\n",
    "export.to_excel(\"企业登记注册.xlsx\", index=False)"
   ]
  },
  {
   "cell_type": "markdown",
   "id": "d43dadf0",
   "metadata": {},
   "source": [
    "### 导出不重复主项-业务办理项-情形"
   ]
  },
  {
   "cell_type": "code",
   "execution_count": null,
   "id": "ac5a9092",
   "metadata": {},
   "outputs": [],
   "source": [
    "# df = pd.read_excel(\"./全市全部.xlsx\")\n",
    "data =  df[['主项名称', '业务办理项名称', '情形']].drop_duplicates()\n",
    "data = data[['主项名称', '业务办理项名称', '情形']]\n",
    "data.to_excel(\"不重复主项-业务办理项-情形.xlsx\", index=False)"
   ]
  },
  {
   "cell_type": "code",
   "execution_count": 14,
   "id": "d30032f2",
   "metadata": {},
   "outputs": [],
   "source": [
    "df3 = pd.read_excel(\"./智能客服4.18全市基本信息.xlsx\")\n",
    "data =  df3[['主项名称',\"部门名称\", '业务办理项名称', '情形']].drop_duplicates()\n",
    "data = data[[\"部门名称\", '主项名称', '业务办理项名称', '情形']]\n",
    "data.to_excel(\"不重复部门-主项-业务办理项-情形.xlsx\", index=False)"
   ]
  }
 ],
 "metadata": {
  "kernelspec": {
   "display_name": "pandas",
   "language": "python",
   "name": "python3"
  },
  "language_info": {
   "codemirror_mode": {
    "name": "ipython",
    "version": 3
   },
   "file_extension": ".py",
   "mimetype": "text/x-python",
   "name": "python",
   "nbconvert_exporter": "python",
   "pygments_lexer": "ipython3",
   "version": "3.10.17"
  }
 },
 "nbformat": 4,
 "nbformat_minor": 5
}
